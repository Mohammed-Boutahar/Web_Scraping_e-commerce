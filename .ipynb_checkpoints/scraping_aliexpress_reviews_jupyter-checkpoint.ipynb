{
 "cells": [
  {
   "cell_type": "code",
   "execution_count": null,
   "id": "973e899c",
   "metadata": {},
   "outputs": [],
   "source": [
    "pip install google-play-scraper"
   ]
  },
  {
   "cell_type": "code",
   "execution_count": null,
   "id": "f5f71ba7",
   "metadata": {},
   "outputs": [],
   "source": [
    "from google_play_scraper import app\n",
    "import pandas as pd\n",
    "import numpy as np\n",
    "\n",
    "#US Market\n",
    "\n",
    "from google_play_scraper import Sort, reviews_all\n",
    "\n",
    "\n",
    "us_reviews = reviews_all(\n",
    "    'com.amazon.mShop.android.shopping',\n",
    "    sleep_milliseconds=0, # defaults to 0\n",
    "    lang='en', # defaults to 'en'\n",
    "    country='us', # defaults to 'us'\n",
    "    sort=Sort.NEWEST, # defaults to Sort.MOST_RELEVANT\n",
    ")\n",
    "\n",
    "df_busu = pd.DataFrame(np.array(us_reviews),columns=['review'])\n",
    "\n",
    "df_busu = df_busu.join(pd.DataFrame(df_busu.pop('review').tolist()))\n",
    "\n",
    "df_busu.head(20)"
   ]
  }
 ],
 "metadata": {
  "kernelspec": {
   "display_name": "Python 3 (ipykernel)",
   "language": "python",
   "name": "python3"
  },
  "language_info": {
   "codemirror_mode": {
    "name": "ipython",
    "version": 3
   },
   "file_extension": ".py",
   "mimetype": "text/x-python",
   "name": "python",
   "nbconvert_exporter": "python",
   "pygments_lexer": "ipython3",
   "version": "3.9.13"
  }
 },
 "nbformat": 4,
 "nbformat_minor": 5
}
